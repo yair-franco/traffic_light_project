{
 "cells": [
  {
   "cell_type": "code",
   "execution_count": 23,
   "metadata": {},
   "outputs": [],
   "source": [
    "import numpy as np\n",
    "import pandas as pd\n",
    "from datetime import datetime"
   ]
  },
  {
   "cell_type": "code",
   "execution_count": 16,
   "metadata": {},
   "outputs": [
    {
     "name": "stdout",
     "output_type": "stream",
     "text": [
      "        ID                    Time      Lat     Long  Depth         Author  \\\n",
      "0  6898861 2016-07-03 04:00:45.170  42.5677  13.3212   13.7    SURVEY-INGV   \n",
      "1  6899891 2016-07-03 11:26:13.290  42.9975  12.9073    9.1  BULLETIN-INGV   \n",
      "2  6899921 2016-07-03 11:42:33.880  42.6328  13.0067    9.9    SURVEY-INGV   \n",
      "3  6901011 2016-07-03 20:10:41.110  42.4693  13.2998   12.8  BULLETIN-INGV   \n",
      "4  6901031 2016-07-03 21:10:35.470  42.4608  13.3023   13.4  BULLETIN-INGV   \n",
      "\n",
      "  Catalog Contributor ContributorID MagType  Mag MagAuthor  \\\n",
      "0                                        ML  1.1        --   \n",
      "1                                        ML  1.5        --   \n",
      "2                                        ML  1.0        --   \n",
      "3                                        ML  1.6        --   \n",
      "4                                        ML  1.2        --   \n",
      "\n",
      "                   EventLocationName   EventType  \n",
      "0             4 km W Campotosto (AQ)  earthquake  \n",
      "1          8 km W Monte Cavallo (MC)  earthquake  \n",
      "2  5 km E Monteleone di Spoleto (PG)  earthquake  \n",
      "3                2 km NE Barete (AQ)  earthquake  \n",
      "4                2 km NE Barete (AQ)  earthquake  \n"
     ]
    }
   ],
   "source": [
    "def read_catalog(filename):\n",
    "    with open(filename, 'r') as f:\n",
    "        # read header\n",
    "        header = f.readline().strip().split()\n",
    "        # read data\n",
    "        data = []\n",
    "        for line in f:\n",
    "            fields = line.strip().split('|')\n",
    "            fields[1] = pd.to_datetime(fields[1])\n",
    "            data.append(fields)\n",
    "    # create pandas dataframe\n",
    "    df = pd.DataFrame(data, columns=['EventID', 'Time', 'Latitude', 'Longitude', 'Depth/Km', 'Author', 'Catalog', 'Contributor', 'ContributorID', 'MagType', 'Magnitude', 'MagAuthor', 'EventLocationName', 'EventType'])\n",
    "    # convert latitude, longitude, depth, and magnitude columns to numeric format\n",
    "    df[['Latitude', 'Longitude', 'Depth/Km', 'Magnitude']] = df[['Latitude', 'Longitude', 'Depth/Km', 'Magnitude']].apply(pd.to_numeric)\n",
    "    df = df.rename(columns={'EventID': 'ID'})\n",
    "    df = df.rename(columns={'Latitude': 'Lat'})\n",
    "    df = df.rename(columns={'Longitude': 'Long'})\n",
    "    df = df.rename(columns={'Depth/Km': 'Depth'})\n",
    "    df = df.rename(columns={'Magnitude': 'Mag'})\n",
    "    return df\n",
    "\n",
    "# example usage\n",
    "file = 'norcia16.txt'\n",
    "earthquake_catalog = read_catalog(file)\n",
    "print(earthquake_catalog.head())"
   ]
  },
  {
   "cell_type": "code",
   "execution_count": 17,
   "metadata": {},
   "outputs": [
    {
     "name": "stdout",
     "output_type": "stream",
     "text": [
      "0       1.1\n",
      "1       1.5\n",
      "2       1.0\n",
      "3       1.6\n",
      "4       1.2\n",
      "       ... \n",
      "9995    1.4\n",
      "9996    1.3\n",
      "9997    0.9\n",
      "9998    0.8\n",
      "9999    1.0\n",
      "Name: Mag, Length: 10000, dtype: float64\n"
     ]
    }
   ],
   "source": [
    "print(earthquake_catalog['Mag'])"
   ]
  },
  {
   "cell_type": "code",
   "execution_count": 19,
   "metadata": {},
   "outputs": [
    {
     "data": {
      "text/plain": [
       "(1.2999999999999998, 5.1095882047730345, 0.9358256956052159)"
      ]
     },
     "execution_count": 19,
     "metadata": {},
     "output_type": "execute_result"
    }
   ],
   "source": [
    "from tlp_fs import calc_Mc_b\n",
    "import numpy as np\n",
    "\n",
    "def calc_Mc_b(mag,plot=0):\n",
    "    nNumberMagnitude=np.floor(mag.max()*10)+1\n",
    "    xx=np.linspace(np.floor(mag.min()*10)/10,mag.max(),int((np.floor(mag.max()*10)/10-\n",
    "                                                            np.floor(mag.min()*10)/10)*10)+1)\n",
    "    vhist,vMagBins=np.histogram(mag,bins=xx)\n",
    "    iMc = np.where(vhist==vhist.max())[0][-1]\n",
    "    fMc=vMagBins[iMc]\n",
    "    hist = vhist[iMc:][::-1]\n",
    "    bins = vMagBins[iMc:][::-1]\n",
    "    cum_hist = hist.cumsum()\n",
    "    log_cum_sum = np.log10(cum_hist)\n",
    "    bins = bins[1:]\n",
    "    b,a = np.polyfit(bins, log_cum_sum, 1)\n",
    "    if plot==1:\n",
    "        plt.figure()\n",
    "        plt.subplot(211)\n",
    "        plt.bar(vMagBins[:-1]+0.05,vhist,0.1)\n",
    "        plt.axvline(x=fMc,c='r',lw=2)\n",
    "        plt.title('Mc:'+ \"{:.2f}\".format(fMc)+'  '+'b value:'+  \"{:.2f}\".format(-b))\n",
    "        plt.xlim(-1,8)\n",
    "        plt.ylabel('Event number')\n",
    "        plt.subplot(212)\n",
    "        plt.plot(bins,np.log10(cum_hist))\n",
    "        plt.plot(bins,a + b*bins)\n",
    "        plt.xlim(-1,8)\n",
    "        plt.xlabel('Magnitude')\n",
    "        plt.ylabel('log10(CDF)')\n",
    "        plt.show()\n",
    "        \n",
    "    return fMc, a, -b\n",
    "\n",
    "calc_Mc_b(earthquake_catalog['Mag'])"
   ]
  },
  {
   "cell_type": "code",
   "execution_count": null,
   "metadata": {},
   "outputs": [],
   "source": [
    "slide = []\n",
    "bDates = []\n",
    "ewLens = []\n",
    "\n",
    "timeStart = 2016.5#np.min(time_year)\n",
    "timeEnd = 2017#np.max(time_year) #or custom decimal year dates\n",
    "timeTotal = timeEnd - timeStart\n",
    "\n",
    "#areaParams = (dist_along_proj<70)&(dist_along_proj>0)&(dist_norm_proj<5)&(dist_norm_proj>-5)\n",
    "#timeParams = (time_year>timeStart)&(time_year<timeEnd)\n",
    "\n",
    "bigMag = 5\n",
    "\n",
    "#data = np.where(areaParams&timeParams)\n",
    "#data = np.where(timeParams&areaParams&(mag<=bigMag))\n",
    "index = earthquake_catalog['Mag']\n",
    "print(len(index),index)\n",
    "\n",
    "ewSize = 100 #number of eqs per window\n",
    "\n",
    "for i in range(len(index)):\n",
    "\n",
    "    ew = index[i:i+ewSize] # filter 'ew' by 'wParams'\n",
    "    ewEnd = time_year[ew][-1]\n",
    "    bDates.append(time_year[ew[-1]]) # append last event date in 'ew'. Provided by ChatGPT\n",
    "\n",
    "    bEW = calc_Mc_b(mag[ew])[2]\n",
    "    addbVal_slide(slide,bEW,bDates)\n",
    "\n",
    "    ewLens.append((np.max(time_year[ew])-np.min(time_year[ew])))\n",
    "\n",
    "    if ew[-1] >= max(index):\n",
    "        print(f\"end of loop, steps: {i}; date of last eq: {ew[-1]}; last b: {bEW}\")\n",
    "        xMin = np.min(bDates)\n",
    "        xMax = np.max(bDates)\n",
    "        print(f\"x range: {xMin} to {xMax}; array lengths: {len(slide),len(bDates)}\")\n",
    "        plt.plot(bDates,ewLens,\"ro\",markersize=0.5,label=\"Window size (in years)\")\n",
    "        addbVal_slide(slide,bEW,bDates,xMin,xMax,1)\n",
    "        break\n",
    "\n",
    "bigEqs = np.where(areaParams&timeParams&(mag>bigMag))\n",
    "bigDates = time_year[bigEqs]"
   ]
  },
  {
   "cell_type": "code",
   "execution_count": 36,
   "metadata": {},
   "outputs": [
    {
     "name": "stdout",
     "output_type": "stream",
     "text": [
      "did thi work2016-07-03 11:26:13.290000 ORRRR 2016-07-03 11:26:13.290000\n"
     ]
    },
    {
     "ename": "TypeError",
     "evalue": "strptime() argument 1 must be str, not datetime.datetime",
     "output_type": "error",
     "traceback": [
      "\u001b[1;31m---------------------------------------------------------------------------\u001b[0m",
      "\u001b[1;31mTypeError\u001b[0m                                 Traceback (most recent call last)",
      "\u001b[1;32mc:\\Users\\yair_\\Documents\\GitHub\\traffic_light_project\\TLP_Yair_local_Italy.ipynb Cell 6\u001b[0m in \u001b[0;36m<cell line: 9>\u001b[1;34m()\u001b[0m\n\u001b[0;32m      <a href='vscode-notebook-cell:/c%3A/Users/yair_/Documents/GitHub/traffic_light_project/TLP_Yair_local_Italy.ipynb#W5sZmlsZQ%3D%3D?line=5'>6</a>\u001b[0m \u001b[39m#time_str = '2016-07-03 04:00:45.170'\u001b[39;00m\n\u001b[0;32m      <a href='vscode-notebook-cell:/c%3A/Users/yair_/Documents/GitHub/traffic_light_project/TLP_Yair_local_Italy.ipynb#W5sZmlsZQ%3D%3D?line=6'>7</a>\u001b[0m time_str \u001b[39m=\u001b[39m d_fixed\n\u001b[1;32m----> <a href='vscode-notebook-cell:/c%3A/Users/yair_/Documents/GitHub/traffic_light_project/TLP_Yair_local_Italy.ipynb#W5sZmlsZQ%3D%3D?line=8'>9</a>\u001b[0m dt \u001b[39m=\u001b[39m datetime\u001b[39m.\u001b[39;49mstrptime(time_str, \u001b[39m'\u001b[39;49m\u001b[39m%\u001b[39;49m\u001b[39mY-\u001b[39;49m\u001b[39m%\u001b[39;49m\u001b[39mm-\u001b[39;49m\u001b[39m%d\u001b[39;49;00m\u001b[39m \u001b[39;49m\u001b[39m%\u001b[39;49m\u001b[39mH:\u001b[39;49m\u001b[39m%\u001b[39;49m\u001b[39mM:\u001b[39;49m\u001b[39m%\u001b[39;49m\u001b[39mS.\u001b[39;49m\u001b[39m%f\u001b[39;49;00m\u001b[39m'\u001b[39;49m)\n\u001b[0;32m     <a href='vscode-notebook-cell:/c%3A/Users/yair_/Documents/GitHub/traffic_light_project/TLP_Yair_local_Italy.ipynb#W5sZmlsZQ%3D%3D?line=9'>10</a>\u001b[0m year_start \u001b[39m=\u001b[39m datetime(dt\u001b[39m.\u001b[39myear, \u001b[39m1\u001b[39m, \u001b[39m1\u001b[39m)\n\u001b[0;32m     <a href='vscode-notebook-cell:/c%3A/Users/yair_/Documents/GitHub/traffic_light_project/TLP_Yair_local_Italy.ipynb#W5sZmlsZQ%3D%3D?line=10'>11</a>\u001b[0m delta \u001b[39m=\u001b[39m dt \u001b[39m-\u001b[39m year_start\n",
      "\u001b[1;31mTypeError\u001b[0m: strptime() argument 1 must be str, not datetime.datetime"
     ]
    }
   ],
   "source": [
    "d = earthquake_catalog['Time'][1]\n",
    "d_fixed = d.to_pydatetime()\n",
    "\n",
    "print(f\"did thi work{d.to_pydatetime()} ORRRR {d_fixed}\")\n",
    "\n",
    "#time_str = '2016-07-03 04:00:45.170'\n",
    "time_str = d_fixed\n",
    "\n",
    "dt = datetime.strptime(time_str, '%Y-%m-%d %H:%M:%S.%f')\n",
    "year_start = datetime(dt.year, 1, 1)\n",
    "delta = dt - year_start\n",
    "decimal_year = dt.year + delta.days / 365.25 + delta.seconds / (365.25 * 24 * 3600)\n",
    "\n",
    "print(decimal_year)\n"
   ]
  },
  {
   "cell_type": "code",
   "execution_count": null,
   "metadata": {},
   "outputs": [],
   "source": []
  }
 ],
 "metadata": {
  "kernelspec": {
   "display_name": "base",
   "language": "python",
   "name": "python3"
  },
  "language_info": {
   "codemirror_mode": {
    "name": "ipython",
    "version": 3
   },
   "file_extension": ".py",
   "mimetype": "text/x-python",
   "name": "python",
   "nbconvert_exporter": "python",
   "pygments_lexer": "ipython3",
   "version": "3.9.12"
  },
  "orig_nbformat": 4
 },
 "nbformat": 4,
 "nbformat_minor": 2
}
